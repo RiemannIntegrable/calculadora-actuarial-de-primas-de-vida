{
 "cells": [
  {
   "cell_type": "code",
   "execution_count": 58,
   "metadata": {
    "vscode": {
     "languageId": "r"
    }
   },
   "outputs": [],
   "source": [
    "source(\"../src/utils/punto1.R\")\n",
    "source(\"../src/utils/punto2.R\")\n",
    "source(\"../src/utils/punto3.R\")"
   ]
  },
  {
   "cell_type": "code",
   "execution_count": 59,
   "metadata": {
    "vscode": {
     "languageId": "r"
    }
   },
   "outputs": [],
   "source": [
    "tabla_muestra = read.csv(\"../data/in/muestra.csv\")"
   ]
  },
  {
   "cell_type": "code",
   "execution_count": 60,
   "metadata": {
    "vscode": {
     "languageId": "r"
    }
   },
   "outputs": [
    {
     "name": "stdout",
     "output_type": "stream",
     "text": [
      "[1] 0.07879583\n",
      "[1] 0.1022417\n",
      "[1] 0.1935215\n"
     ]
    }
   ],
   "source": [
    "# Definir parámetros para la prueba\n",
    "x <- 25  # Edad\n",
    "r <- 0.05  # Incremento anual del valor asegurado\n",
    "i <- 0.085  # Tasa de interés\n",
    "m <- 12  # Pagos mensuales\n",
    "\n",
    "# Probar la función con la tabla de muestra\n",
    "print(IrAmx(tabla_muestra, x, r, i, m))\n",
    "print(ImrAmx(tabla_muestra, x, r, i, m))\n",
    "print(GrAmx(tabla_muestra, x, r, i, m))"
   ]
  }
 ],
 "metadata": {
  "kernelspec": {
   "display_name": "R",
   "language": "R",
   "name": "ir"
  },
  "language_info": {
   "codemirror_mode": "r",
   "file_extension": ".r",
   "mimetype": "text/x-r-source",
   "name": "R",
   "pygments_lexer": "r",
   "version": "4.2.3"
  }
 },
 "nbformat": 4,
 "nbformat_minor": 2
}
