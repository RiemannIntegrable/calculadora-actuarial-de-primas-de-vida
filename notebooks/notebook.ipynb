{
 "cells": [
  {
   "cell_type": "markdown",
   "metadata": {},
   "source": [
    "<div align=\"center\">\n",
    "\n",
    "# **Funciones de primas de seguros**\n",
    "\n",
    "</div>"
   ]
  },
  {
   "cell_type": "markdown",
   "metadata": {},
   "source": [
    "## 1. Llamado a las funciones"
   ]
  },
  {
   "cell_type": "code",
   "execution_count": 15,
   "metadata": {
    "vscode": {
     "languageId": "r"
    }
   },
   "outputs": [],
   "source": [
    "source(\"../src/data/read.R\")\n",
    "source(\"../src/utils/basicas.R\")\n",
    "source(\"../src/utils/conmutaciones.R\")\n",
    "source(\"../src/utils/primas.R\")"
   ]
  },
  {
   "cell_type": "markdown",
   "metadata": {},
   "source": [
    "## 2. Tablas de mortalidad"
   ]
  },
  {
   "cell_type": "code",
   "execution_count": 16,
   "metadata": {
    "vscode": {
     "languageId": "r"
    }
   },
   "outputs": [],
   "source": [
    "# Lectura de las tablas\n",
    "\n",
    "#tabla_rentistas_hombres <- leer_excel(\"data/in/Tablas Mortalidad.xls\", hoja=1)\n",
    "#tabla_rentistas_mujeres <- leer_excel(\"data/in/Tablas Mortalidad.xls\", hoja=2)\n",
    "#tabla_invalidos_hombres <- leer_excel(\"data/in/Tablas Mortalidad.xls\", hoja=3)\n",
    "#tabla_invalidos_mujeres <- leer_excel(\"data/in/Tablas Mortalidad.xls\", hoja=4)\n",
    "#tabla_asegurados_hombres <- leer_excel(\"data/in/Tablas Mortalidad.xls\", hoja=5)\n",
    "#tabla_asegurados_mujeres <- leer_excel(\"data/in/Tablas Mortalidad.xls\", hoja=6)\n",
    "\n",
    "# Guardar las tablas\n",
    "#write.csv(tabla_rentistas_hombres, file = \"../data/processed/tabla_rentistas_hombres.csv\")\n",
    "#write.csv(tabla_rentistas_mujeres, file = \"../data/processed/tabla_rentistas_mujeres.csv\")\n",
    "#write.csv(tabla_invalidos_hombres, file = \"../data/processed/tabla_invalidos_hombres.csv\")\n",
    "#write.csv(tabla_invalidos_hombres, file = \"../data/processed/tabla_invalidos_mujeres.csv\")\n",
    "#write.csv(tabla_asegurados_hombres, file = \"../data/processed/tabla_asegurados_hombres.csv\")\n",
    "#write.csv(tabla_asegurados_hombres, file = \"../data/processed/tabla_asegurados_mujeres.csv\")"
   ]
  },
  {
   "cell_type": "code",
   "execution_count": null,
   "metadata": {
    "vscode": {
     "languageId": "r"
    }
   },
   "outputs": [],
   "source": [
    "# Lectura de los csv\n",
    "tabla_rentistas_hombres <- read.csv(\"../data/processed/tabla_rentistas_hombres.csv\")\n",
    "tabla_rentistas_mujeres <- read.csv(\"../data/processed/tabla_rentistas_mujeres.csv\")\n",
    "tabla_invalidos_hombres <- read.csv(\"../data/processed/tabla_invalidos_hombres.csv\")\n",
    "tabla_invalidos_mujeres <- read.csv(\"../data/processed/tabla_invalidos_mujeres.csv\")\n",
    "tabla_asegurados_hombres <- read.csv(\"../data/processed/tabla_asegurados_hombres.csv\")\n",
    "tabla_asegurados_mujeres <- read.csv(\"../data/processed/tabla_asegurados_mujeres.csv\")"
   ]
  }
 ],
 "metadata": {
  "kernelspec": {
   "display_name": "R",
   "language": "R",
   "name": "ir"
  },
  "language_info": {
   "codemirror_mode": "r",
   "file_extension": ".r",
   "mimetype": "text/x-r-source",
   "name": "R",
   "pygments_lexer": "r",
   "version": "4.2.3"
  }
 },
 "nbformat": 4,
 "nbformat_minor": 2
}
