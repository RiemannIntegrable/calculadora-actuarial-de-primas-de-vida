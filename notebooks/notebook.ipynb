{
 "cells": [
  {
   "cell_type": "markdown",
   "metadata": {},
   "source": [
    "<div align=\"center\">\n",
    "\n",
    "# **Funciones de primas de seguros**\n",
    "\n",
    "</div>"
   ]
  },
  {
   "cell_type": "markdown",
   "metadata": {},
   "source": [
    "## 1. Llamado a las funciones"
   ]
  },
  {
   "cell_type": "code",
   "execution_count": null,
   "metadata": {
    "vscode": {
     "languageId": "r"
    }
   },
   "outputs": [
    {
     "name": "stderr",
     "output_type": "stream",
     "text": [
      "Warning message in file(filename, \"r\", encoding = encoding):\n",
      "“cannot open file 'basicas.R': No such file or directory”\n"
     ]
    },
    {
     "ename": "ERROR",
     "evalue": "Error in file(filename, \"r\", encoding = encoding): cannot open the connection\n",
     "output_type": "error",
     "traceback": [
      "Error in file(filename, \"r\", encoding = encoding): cannot open the connection\nTraceback:\n",
      "1. withVisible(eval(ei, envir))",
      "2. eval(ei, envir)",
      "3. eval(ei, envir)",
      "4. source(\"basicas.R\")",
      "5. file(filename, \"r\", encoding = encoding)",
      "6. .handleSimpleError(function (cnd) \n . {\n .     watcher$capture_plot_and_output()\n .     cnd <- sanitize_call(cnd)\n .     watcher$push(cnd)\n .     switch(on_error, continue = invokeRestart(\"eval_continue\"), \n .         stop = invokeRestart(\"eval_stop\"), error = NULL)\n . }, \"cannot open the connection\", base::quote(file(filename, \"r\", \n .     encoding = encoding)))"
     ]
    }
   ],
   "source": [
    "source(\"../src/init.R\")"
   ]
  },
  {
   "cell_type": "markdown",
   "metadata": {},
   "source": [
    "## 2. Tablas de mortalidad"
   ]
  },
  {
   "cell_type": "code",
   "execution_count": 16,
   "metadata": {
    "vscode": {
     "languageId": "r"
    }
   },
   "outputs": [],
   "source": [
    "# Lectura de las tablas\n",
    "\n",
    "#tabla_rentistas_hombres <- leer_excel(\"data/in/Tablas Mortalidad.xls\", hoja=1)\n",
    "#tabla_rentistas_mujeres <- leer_excel(\"data/in/Tablas Mortalidad.xls\", hoja=2)\n",
    "#tabla_invalidos_hombres <- leer_excel(\"data/in/Tablas Mortalidad.xls\", hoja=3)\n",
    "#tabla_invalidos_mujeres <- leer_excel(\"data/in/Tablas Mortalidad.xls\", hoja=4)\n",
    "#tabla_asegurados_hombres <- leer_excel(\"data/in/Tablas Mortalidad.xls\", hoja=5)\n",
    "#tabla_asegurados_mujeres <- leer_excel(\"data/in/Tablas Mortalidad.xls\", hoja=6)\n",
    "\n",
    "# Guardar las tablas\n",
    "#write.csv(tabla_rentistas_hombres, file = \"../data/processed/tabla_rentistas_hombres.csv\")\n",
    "#write.csv(tabla_rentistas_mujeres, file = \"../data/processed/tabla_rentistas_mujeres.csv\")\n",
    "#write.csv(tabla_invalidos_hombres, file = \"../data/processed/tabla_invalidos_hombres.csv\")\n",
    "#write.csv(tabla_invalidos_hombres, file = \"../data/processed/tabla_invalidos_mujeres.csv\")\n",
    "#write.csv(tabla_asegurados_hombres, file = \"../data/processed/tabla_asegurados_hombres.csv\")\n",
    "#write.csv(tabla_asegurados_hombres, file = \"../data/processed/tabla_asegurados_mujeres.csv\")"
   ]
  },
  {
   "cell_type": "code",
   "execution_count": null,
   "metadata": {
    "vscode": {
     "languageId": "r"
    }
   },
   "outputs": [],
   "source": [
    "# Lectura de los csv\n",
    "tabla_rentistas_hombres <- read.csv(\"../data/processed/tabla_rentistas_hombres.csv\")\n",
    "tabla_rentistas_mujeres <- read.csv(\"../data/processed/tabla_rentistas_mujeres.csv\")\n",
    "tabla_invalidos_hombres <- read.csv(\"../data/processed/tabla_invalidos_hombres.csv\")\n",
    "tabla_invalidos_mujeres <- read.csv(\"../data/processed/tabla_invalidos_mujeres.csv\")\n",
    "tabla_asegurados_hombres <- read.csv(\"../data/processed/tabla_asegurados_hombres.csv\")\n",
    "tabla_asegurados_mujeres <- read.csv(\"../data/processed/tabla_asegurados_mujeres.csv\")"
   ]
  },
  {
   "cell_type": "markdown",
   "metadata": {},
   "source": [
    "## 3. Pruebas de las funcioens de conmutacion"
   ]
  },
  {
   "cell_type": "code",
   "execution_count": null,
   "metadata": {
    "vscode": {
     "languageId": "r"
    }
   },
   "outputs": [],
   "source": [
    "# Verificar propiedades en ω\n",
    "verificar_propiedades_omega(tabla_rentistas_hombres, i)\n",
    "\n",
    "# Verificar relaciones de recurrencia\n",
    "verificar_conmutaciones_omega(tabla_rentistas_hombres, 65, i)"
   ]
  }
 ],
 "metadata": {
  "kernelspec": {
   "display_name": "R",
   "language": "R",
   "name": "ir"
  },
  "language_info": {
   "codemirror_mode": "r",
   "file_extension": ".r",
   "mimetype": "text/x-r-source",
   "name": "R",
   "pygments_lexer": "r",
   "version": "4.2.3"
  }
 },
 "nbformat": 4,
 "nbformat_minor": 2
}
