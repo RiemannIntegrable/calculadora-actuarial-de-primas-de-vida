{
 "cells": [
  {
   "cell_type": "markdown",
   "metadata": {},
   "source": [
    "<div align=\"center\">\n",
    "\n",
    "# **Funciones de primas de seguros**\n",
    "\n",
    "</div>"
   ]
  },
  {
   "cell_type": "markdown",
   "metadata": {},
   "source": [
    "## 1. Llamado a las funciones"
   ]
  },
  {
   "cell_type": "code",
   "execution_count": 56,
   "metadata": {
    "vscode": {
     "languageId": "r"
    }
   },
   "outputs": [],
   "source": [
    "source(\"../src/init.R\")\n",
    "library(dplyr)"
   ]
  },
  {
   "cell_type": "markdown",
   "metadata": {},
   "source": [
    "## 2. Tablas de mortalidad"
   ]
  },
  {
   "cell_type": "code",
   "execution_count": 57,
   "metadata": {
    "vscode": {
     "languageId": "r"
    }
   },
   "outputs": [],
   "source": [
    "# Lectura de las tablas\n",
    "\n",
    "#tabla_rentistas_hombres <- leer_excel(\"data/in/Tablas Mortalidad.xls\", hoja=1)\n",
    "#tabla_rentistas_mujeres <- leer_excel(\"data/in/Tablas Mortalidad.xls\", hoja=2)\n",
    "#tabla_invalidos_hombres <- leer_excel(\"data/in/Tablas Mortalidad.xls\", hoja=3)\n",
    "#tabla_invalidos_mujeres <- leer_excel(\"data/in/Tablas Mortalidad.xls\", hoja=4)\n",
    "#tabla_asegurados_hombres <- leer_excel(\"data/in/Tablas Mortalidad.xls\", hoja=5)\n",
    "#tabla_asegurados_mujeres <- leer_excel(\"data/in/Tablas Mortalidad.xls\", hoja=6)\n",
    "\n",
    "# Guardar las tablas\n",
    "#write.csv(tabla_rentistas_hombres, file = \"../data/processed/tabla_rentistas_hombres.csv\")\n",
    "#write.csv(tabla_rentistas_mujeres, file = \"../data/processed/tabla_rentistas_mujeres.csv\")\n",
    "#write.csv(tabla_invalidos_hombres, file = \"../data/processed/tabla_invalidos_hombres.csv\")\n",
    "#write.csv(tabla_invalidos_hombres, file = \"../data/processed/tabla_invalidos_mujeres.csv\")\n",
    "#write.csv(tabla_asegurados_hombres, file = \"../data/processed/tabla_asegurados_hombres.csv\")\n",
    "#write.csv(tabla_asegurados_hombres, file = \"../data/processed/tabla_asegurados_mujeres.csv\")"
   ]
  },
  {
   "cell_type": "code",
   "execution_count": 58,
   "metadata": {
    "vscode": {
     "languageId": "r"
    }
   },
   "outputs": [],
   "source": [
    "# Lectura de los csv\n",
    "tabla_rentistas_hombres <- read.csv(\"../data/processed/tabla_rentistas_hombres.csv\")\n",
    "tabla_rentistas_mujeres <- read.csv(\"../data/processed/tabla_rentistas_mujeres.csv\")\n",
    "tabla_invalidos_hombres <- read.csv(\"../data/processed/tabla_invalidos_hombres.csv\")\n",
    "tabla_invalidos_mujeres <- read.csv(\"../data/processed/tabla_invalidos_mujeres.csv\")\n",
    "tabla_asegurados_hombres <- read.csv(\"../data/processed/tabla_asegurados_hombres.csv\")\n",
    "tabla_asegurados_mujeres <- read.csv(\"../data/processed/tabla_asegurados_mujeres.csv\")\n",
    "\n",
    "tabla_muestra <- read.csv(\"../data/in/muestra.csv\")"
   ]
  },
  {
   "cell_type": "markdown",
   "metadata": {},
   "source": [
    "## 3. Pruebas de las funcioens de conmutacion"
   ]
  },
  {
   "cell_type": "code",
   "execution_count": 59,
   "metadata": {
    "vscode": {
     "languageId": "r"
    }
   },
   "outputs": [
    {
     "data": {
      "text/html": [
       "<table class=\"dataframe\">\n",
       "<caption>A data.frame: 6 × 10</caption>\n",
       "<thead>\n",
       "\t<tr><th></th><th scope=col>x</th><th scope=col>lx</th><th scope=col>qx</th><th scope=col>dx</th><th scope=col>px</th><th scope=col>Dx</th><th scope=col>Cx</th><th scope=col>Mx</th><th scope=col>Rx</th><th scope=col>Nx</th></tr>\n",
       "\t<tr><th></th><th scope=col>&lt;int&gt;</th><th scope=col>&lt;int&gt;</th><th scope=col>&lt;dbl&gt;</th><th scope=col>&lt;int&gt;</th><th scope=col>&lt;dbl&gt;</th><th scope=col>&lt;dbl&gt;</th><th scope=col>&lt;dbl&gt;</th><th scope=col>&lt;dbl&gt;</th><th scope=col>&lt;dbl&gt;</th><th scope=col>&lt;dbl&gt;</th></tr>\n",
       "</thead>\n",
       "<tbody>\n",
       "\t<tr><th scope=row>1</th><td>20</td><td>100000</td><td>0.001300</td><td>130</td><td>0.998700</td><td>14864.363</td><td>17.5670</td><td>302.1525</td><td>6036.204</td><td>160184.31</td></tr>\n",
       "\t<tr><th scope=row>2</th><td>21</td><td> 99870</td><td>0.001342</td><td>134</td><td>0.998658</td><td>13495.490</td><td>16.4645</td><td>284.5855</td><td>5734.052</td><td>145319.95</td></tr>\n",
       "\t<tr><th scope=row>3</th><td>22</td><td> 99736</td><td>0.001384</td><td>138</td><td>0.998616</td><td>12252.163</td><td>15.4154</td><td>268.1210</td><td>5449.466</td><td>131824.46</td></tr>\n",
       "\t<tr><th scope=row>4</th><td>23</td><td> 99598</td><td>0.001416</td><td>141</td><td>0.998584</td><td>11122.914</td><td>14.3182</td><td>252.7055</td><td>5181.345</td><td>119572.30</td></tr>\n",
       "\t<tr><th scope=row>5</th><td>24</td><td> 99457</td><td>0.001458</td><td>145</td><td>0.998542</td><td>10097.422</td><td>13.3837</td><td>238.3873</td><td>4928.640</td><td>108449.38</td></tr>\n",
       "\t<tr><th scope=row>6</th><td>25</td><td> 99312</td><td>0.001490</td><td>148</td><td>0.998510</td><td> 9166.091</td><td>12.4159</td><td>225.0036</td><td>4690.252</td><td> 98351.96</td></tr>\n",
       "</tbody>\n",
       "</table>\n"
      ],
      "text/latex": [
       "A data.frame: 6 × 10\n",
       "\\begin{tabular}{r|llllllllll}\n",
       "  & x & lx & qx & dx & px & Dx & Cx & Mx & Rx & Nx\\\\\n",
       "  & <int> & <int> & <dbl> & <int> & <dbl> & <dbl> & <dbl> & <dbl> & <dbl> & <dbl>\\\\\n",
       "\\hline\n",
       "\t1 & 20 & 100000 & 0.001300 & 130 & 0.998700 & 14864.363 & 17.5670 & 302.1525 & 6036.204 & 160184.31\\\\\n",
       "\t2 & 21 &  99870 & 0.001342 & 134 & 0.998658 & 13495.490 & 16.4645 & 284.5855 & 5734.052 & 145319.95\\\\\n",
       "\t3 & 22 &  99736 & 0.001384 & 138 & 0.998616 & 12252.163 & 15.4154 & 268.1210 & 5449.466 & 131824.46\\\\\n",
       "\t4 & 23 &  99598 & 0.001416 & 141 & 0.998584 & 11122.914 & 14.3182 & 252.7055 & 5181.345 & 119572.30\\\\\n",
       "\t5 & 24 &  99457 & 0.001458 & 145 & 0.998542 & 10097.422 & 13.3837 & 238.3873 & 4928.640 & 108449.38\\\\\n",
       "\t6 & 25 &  99312 & 0.001490 & 148 & 0.998510 &  9166.091 & 12.4159 & 225.0036 & 4690.252 &  98351.96\\\\\n",
       "\\end{tabular}\n"
      ],
      "text/markdown": [
       "\n",
       "A data.frame: 6 × 10\n",
       "\n",
       "| <!--/--> | x &lt;int&gt; | lx &lt;int&gt; | qx &lt;dbl&gt; | dx &lt;int&gt; | px &lt;dbl&gt; | Dx &lt;dbl&gt; | Cx &lt;dbl&gt; | Mx &lt;dbl&gt; | Rx &lt;dbl&gt; | Nx &lt;dbl&gt; |\n",
       "|---|---|---|---|---|---|---|---|---|---|---|\n",
       "| 1 | 20 | 100000 | 0.001300 | 130 | 0.998700 | 14864.363 | 17.5670 | 302.1525 | 6036.204 | 160184.31 |\n",
       "| 2 | 21 |  99870 | 0.001342 | 134 | 0.998658 | 13495.490 | 16.4645 | 284.5855 | 5734.052 | 145319.95 |\n",
       "| 3 | 22 |  99736 | 0.001384 | 138 | 0.998616 | 12252.163 | 15.4154 | 268.1210 | 5449.466 | 131824.46 |\n",
       "| 4 | 23 |  99598 | 0.001416 | 141 | 0.998584 | 11122.914 | 14.3182 | 252.7055 | 5181.345 | 119572.30 |\n",
       "| 5 | 24 |  99457 | 0.001458 | 145 | 0.998542 | 10097.422 | 13.3837 | 238.3873 | 4928.640 | 108449.38 |\n",
       "| 6 | 25 |  99312 | 0.001490 | 148 | 0.998510 |  9166.091 | 12.4159 | 225.0036 | 4690.252 |  98351.96 |\n",
       "\n"
      ],
      "text/plain": [
       "  x  lx     qx       dx  px       Dx        Cx      Mx       Rx       Nx       \n",
       "1 20 100000 0.001300 130 0.998700 14864.363 17.5670 302.1525 6036.204 160184.31\n",
       "2 21  99870 0.001342 134 0.998658 13495.490 16.4645 284.5855 5734.052 145319.95\n",
       "3 22  99736 0.001384 138 0.998616 12252.163 15.4154 268.1210 5449.466 131824.46\n",
       "4 23  99598 0.001416 141 0.998584 11122.914 14.3182 252.7055 5181.345 119572.30\n",
       "5 24  99457 0.001458 145 0.998542 10097.422 13.3837 238.3873 4928.640 108449.38\n",
       "6 25  99312 0.001490 148 0.998510  9166.091 12.4159 225.0036 4690.252  98351.96"
      ]
     },
     "metadata": {},
     "output_type": "display_data"
    }
   ],
   "source": [
    "tabla_muestra <- tabla_muestra %>%\n",
    "  select(x, lx, qx, dx, px, Dx_i, Cx_i, Mx_i, Rx_i, Nx_i) %>%\n",
    "  rename(\n",
    "    Dx = Dx_i,\n",
    "    Cx = Cx_i,\n",
    "    Mx = Mx_i,\n",
    "    Rx = Rx_i,\n",
    "    Nx = Nx_i\n",
    "  )\n",
    "\n",
    "  head(tabla_muestra)"
   ]
  }
 ],
 "metadata": {
  "kernelspec": {
   "display_name": "R",
   "language": "R",
   "name": "ir"
  },
  "language_info": {
   "codemirror_mode": "r",
   "file_extension": ".r",
   "mimetype": "text/x-r-source",
   "name": "R",
   "pygments_lexer": "r",
   "version": "4.2.3"
  }
 },
 "nbformat": 4,
 "nbformat_minor": 2
}
