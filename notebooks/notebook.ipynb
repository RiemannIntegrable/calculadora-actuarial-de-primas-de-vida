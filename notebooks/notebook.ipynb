{
 "cells": [
  {
   "cell_type": "markdown",
   "metadata": {},
   "source": [
    "<div align=\"center\">\n",
    "\n",
    "# **Funciones de primas de seguros**\n",
    "\n",
    "</div>"
   ]
  },
  {
   "cell_type": "code",
   "execution_count": 71,
   "metadata": {
    "vscode": {
     "languageId": "r"
    }
   },
   "outputs": [
    {
     "data": {
      "text/html": [
       "<table class=\"dataframe\">\n",
       "<caption>A data.frame: 6 × 9</caption>\n",
       "<thead>\n",
       "\t<tr><th></th><th scope=col>x</th><th scope=col>lx</th><th scope=col>dx</th><th scope=col>qx</th><th scope=col>px</th><th scope=col>e0x</th><th scope=col>S0(x)</th><th scope=col>f0(x)</th><th scope=col>m(x)</th></tr>\n",
       "\t<tr><th></th><th scope=col>&lt;dbl&gt;</th><th scope=col>&lt;dbl&gt;</th><th scope=col>&lt;dbl&gt;</th><th scope=col>&lt;dbl&gt;</th><th scope=col>&lt;dbl&gt;</th><th scope=col>&lt;dbl&gt;</th><th scope=col>&lt;dbl&gt;</th><th scope=col>&lt;dbl&gt;</th><th scope=col>&lt;dbl&gt;</th></tr>\n",
       "</thead>\n",
       "<tbody>\n",
       "\t<tr><th scope=row>1</th><td>0</td><td>100000.00</td><td>48.50000</td><td>0.000485</td><td>0.999515</td><td>79.29532</td><td>1.0000000</td><td>          NA</td><td>      NA</td></tr>\n",
       "\t<tr><th scope=row>2</th><td>1</td><td> 99951.50</td><td>48.47648</td><td>0.000485</td><td>0.999515</td><td>78.33356</td><td>0.9995150</td><td>0.0004847648</td><td>0.000485</td></tr>\n",
       "\t<tr><th scope=row>3</th><td>2</td><td> 99903.02</td><td>48.45297</td><td>0.000485</td><td>0.999515</td><td>77.37132</td><td>0.9990302</td><td>0.0004845297</td><td>0.000485</td></tr>\n",
       "\t<tr><th scope=row>4</th><td>3</td><td> 99854.57</td><td>48.42947</td><td>0.000485</td><td>0.999515</td><td>76.40863</td><td>0.9985457</td><td>0.0004842947</td><td>0.000485</td></tr>\n",
       "\t<tr><th scope=row>5</th><td>4</td><td> 99806.14</td><td>48.40598</td><td>0.000485</td><td>0.999515</td><td>75.44546</td><td>0.9980614</td><td>0.0004840598</td><td>0.000485</td></tr>\n",
       "\t<tr><th scope=row>6</th><td>5</td><td> 99757.74</td><td>48.38250</td><td>0.000485</td><td>0.999515</td><td>74.48183</td><td>0.9975774</td><td>0.0004838250</td><td>0.000485</td></tr>\n",
       "</tbody>\n",
       "</table>\n"
      ],
      "text/latex": [
       "A data.frame: 6 × 9\n",
       "\\begin{tabular}{r|lllllllll}\n",
       "  & x & lx & dx & qx & px & e0x & S0(x) & f0(x) & m(x)\\\\\n",
       "  & <dbl> & <dbl> & <dbl> & <dbl> & <dbl> & <dbl> & <dbl> & <dbl> & <dbl>\\\\\n",
       "\\hline\n",
       "\t1 & 0 & 100000.00 & 48.50000 & 0.000485 & 0.999515 & 79.29532 & 1.0000000 &           NA &       NA\\\\\n",
       "\t2 & 1 &  99951.50 & 48.47648 & 0.000485 & 0.999515 & 78.33356 & 0.9995150 & 0.0004847648 & 0.000485\\\\\n",
       "\t3 & 2 &  99903.02 & 48.45297 & 0.000485 & 0.999515 & 77.37132 & 0.9990302 & 0.0004845297 & 0.000485\\\\\n",
       "\t4 & 3 &  99854.57 & 48.42947 & 0.000485 & 0.999515 & 76.40863 & 0.9985457 & 0.0004842947 & 0.000485\\\\\n",
       "\t5 & 4 &  99806.14 & 48.40598 & 0.000485 & 0.999515 & 75.44546 & 0.9980614 & 0.0004840598 & 0.000485\\\\\n",
       "\t6 & 5 &  99757.74 & 48.38250 & 0.000485 & 0.999515 & 74.48183 & 0.9975774 & 0.0004838250 & 0.000485\\\\\n",
       "\\end{tabular}\n"
      ],
      "text/markdown": [
       "\n",
       "A data.frame: 6 × 9\n",
       "\n",
       "| <!--/--> | x &lt;dbl&gt; | lx &lt;dbl&gt; | dx &lt;dbl&gt; | qx &lt;dbl&gt; | px &lt;dbl&gt; | e0x &lt;dbl&gt; | S0(x) &lt;dbl&gt; | f0(x) &lt;dbl&gt; | m(x) &lt;dbl&gt; |\n",
       "|---|---|---|---|---|---|---|---|---|---|\n",
       "| 1 | 0 | 100000.00 | 48.50000 | 0.000485 | 0.999515 | 79.29532 | 1.0000000 |           NA |       NA |\n",
       "| 2 | 1 |  99951.50 | 48.47648 | 0.000485 | 0.999515 | 78.33356 | 0.9995150 | 0.0004847648 | 0.000485 |\n",
       "| 3 | 2 |  99903.02 | 48.45297 | 0.000485 | 0.999515 | 77.37132 | 0.9990302 | 0.0004845297 | 0.000485 |\n",
       "| 4 | 3 |  99854.57 | 48.42947 | 0.000485 | 0.999515 | 76.40863 | 0.9985457 | 0.0004842947 | 0.000485 |\n",
       "| 5 | 4 |  99806.14 | 48.40598 | 0.000485 | 0.999515 | 75.44546 | 0.9980614 | 0.0004840598 | 0.000485 |\n",
       "| 6 | 5 |  99757.74 | 48.38250 | 0.000485 | 0.999515 | 74.48183 | 0.9975774 | 0.0004838250 | 0.000485 |\n",
       "\n"
      ],
      "text/plain": [
       "  x lx        dx       qx       px       e0x      S0(x)     f0(x)       \n",
       "1 0 100000.00 48.50000 0.000485 0.999515 79.29532 1.0000000           NA\n",
       "2 1  99951.50 48.47648 0.000485 0.999515 78.33356 0.9995150 0.0004847648\n",
       "3 2  99903.02 48.45297 0.000485 0.999515 77.37132 0.9990302 0.0004845297\n",
       "4 3  99854.57 48.42947 0.000485 0.999515 76.40863 0.9985457 0.0004842947\n",
       "5 4  99806.14 48.40598 0.000485 0.999515 75.44546 0.9980614 0.0004840598\n",
       "6 5  99757.74 48.38250 0.000485 0.999515 74.48183 0.9975774 0.0004838250\n",
       "  m(x)    \n",
       "1       NA\n",
       "2 0.000485\n",
       "3 0.000485\n",
       "4 0.000485\n",
       "5 0.000485\n",
       "6 0.000485"
      ]
     },
     "metadata": {},
     "output_type": "display_data"
    }
   ],
   "source": [
    "source(\"../src/data/read.R\")\n",
    "source(\"../src/utils/conmutaciones.R\")\n",
    "source(\"../src/utils/basics.R\")\n",
    "\n",
    "tabla_mortalidad <- leer_excel(\"data/in/Tablas Mortalidad.xls\", hoja = 1)\n",
    "\n",
    "head(tabla_mortalidad)\n"
   ]
  },
  {
   "cell_type": "code",
   "execution_count": 72,
   "metadata": {
    "vscode": {
     "languageId": "r"
    }
   },
   "outputs": [
    {
     "data": {
      "text/html": [
       "<style>\n",
       ".list-inline {list-style: none; margin:0; padding: 0}\n",
       ".list-inline>li {display: inline-block}\n",
       ".list-inline>li:not(:last-child)::after {content: \"\\00b7\"; padding: 0 .5ex}\n",
       "</style>\n",
       "<ol class=list-inline><li>'x'</li><li>'lx'</li><li>'dx'</li><li>'qx'</li><li>'px'</li><li>'e0x'</li><li>'S0(x)'</li><li>'f0(x)'</li><li>'m(x)'</li></ol>\n"
      ],
      "text/latex": [
       "\\begin{enumerate*}\n",
       "\\item 'x'\n",
       "\\item 'lx'\n",
       "\\item 'dx'\n",
       "\\item 'qx'\n",
       "\\item 'px'\n",
       "\\item 'e0x'\n",
       "\\item 'S0(x)'\n",
       "\\item 'f0(x)'\n",
       "\\item 'm(x)'\n",
       "\\end{enumerate*}\n"
      ],
      "text/markdown": [
       "1. 'x'\n",
       "2. 'lx'\n",
       "3. 'dx'\n",
       "4. 'qx'\n",
       "5. 'px'\n",
       "6. 'e0x'\n",
       "7. 'S0(x)'\n",
       "8. 'f0(x)'\n",
       "9. 'm(x)'\n",
       "\n",
       "\n"
      ],
      "text/plain": [
       "[1] \"x\"     \"lx\"    \"dx\"    \"qx\"    \"px\"    \"e0x\"   \"S0(x)\" \"f0(x)\" \"m(x)\" "
      ]
     },
     "metadata": {},
     "output_type": "display_data"
    }
   ],
   "source": [
    "colnames(tabla_mortalidad)"
   ]
  },
  {
   "cell_type": "code",
   "execution_count": 73,
   "metadata": {
    "vscode": {
     "languageId": "r"
    }
   },
   "outputs": [
    {
     "data": {
      "text/html": [
       "0.999515"
      ],
      "text/latex": [
       "0.999515"
      ],
      "text/markdown": [
       "0.999515"
      ],
      "text/plain": [
       "[1] 0.999515"
      ]
     },
     "metadata": {},
     "output_type": "display_data"
    }
   ],
   "source": [
    "p_x(2, tabla_mortalidad)\n"
   ]
  },
  {
   "cell_type": "code",
   "execution_count": 74,
   "metadata": {
    "vscode": {
     "languageId": "r"
    }
   },
   "outputs": [
    {
     "name": "stdout",
     "output_type": "stream",
     "text": [
      "[1] 99854.57\n"
     ]
    }
   ],
   "source": [
    "print(D(tabla_mortalidad,3,0))"
   ]
  }
 ],
 "metadata": {
  "language_info": {
   "name": "python"
  }
 },
 "nbformat": 4,
 "nbformat_minor": 2
}
