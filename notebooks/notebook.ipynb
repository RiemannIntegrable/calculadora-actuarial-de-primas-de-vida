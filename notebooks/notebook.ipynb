{
 "cells": [
  {
   "cell_type": "markdown",
   "metadata": {},
   "source": [
    "<div align=\"center\">\n",
    "\n",
    "# **Funciones de primas de seguros**\n",
    "\n",
    "</div>"
   ]
  },
  {
   "cell_type": "code",
   "execution_count": 1,
   "metadata": {
    "vscode": {
     "languageId": "r"
    }
   },
   "outputs": [
    {
     "ename": "ERROR",
     "evalue": "Error in library(here): there is no package called ‘here’\n",
     "output_type": "error",
     "traceback": [
      "Error in library(here): there is no package called ‘here’\nTraceback:\n",
      "1. source(\"../src/data/read.R\")",
      "2. withVisible(eval(ei, envir))",
      "3. eval(ei, envir)",
      "4. eval(ei, envir)",
      "5. library(here)"
     ]
    }
   ],
   "source": [
    "source(\"../src/data/read.R\")\n",
    "source(\"../src/utils/conmutaciones.R\")\n",
    "source(\"../src/utils/basics.R\")\n",
    "\n",
    "tabla_mortalidad <- leer_excel(\"data/in/Tablas Mortalidad.xls\", hoja = 1)\n",
    "\n",
    "head(tabla_mortalidad)\n"
   ]
  },
  {
   "cell_type": "code",
   "execution_count": 21,
   "metadata": {
    "vscode": {
     "languageId": "r"
    }
   },
   "outputs": [
    {
     "data": {
      "text/html": [
       "<style>\n",
       ".list-inline {list-style: none; margin:0; padding: 0}\n",
       ".list-inline>li {display: inline-block}\n",
       ".list-inline>li:not(:last-child)::after {content: \"\\00b7\"; padding: 0 .5ex}\n",
       "</style>\n",
       "<ol class=list-inline><li>'x'</li><li>'lx'</li><li>'dx'</li><li>'qx'</li><li>'px'</li><li>'e0x'</li><li>'S0(x)'</li><li>'f0(x)'</li><li>'m(x)'</li></ol>\n"
      ],
      "text/latex": [
       "\\begin{enumerate*}\n",
       "\\item 'x'\n",
       "\\item 'lx'\n",
       "\\item 'dx'\n",
       "\\item 'qx'\n",
       "\\item 'px'\n",
       "\\item 'e0x'\n",
       "\\item 'S0(x)'\n",
       "\\item 'f0(x)'\n",
       "\\item 'm(x)'\n",
       "\\end{enumerate*}\n"
      ],
      "text/markdown": [
       "1. 'x'\n",
       "2. 'lx'\n",
       "3. 'dx'\n",
       "4. 'qx'\n",
       "5. 'px'\n",
       "6. 'e0x'\n",
       "7. 'S0(x)'\n",
       "8. 'f0(x)'\n",
       "9. 'm(x)'\n",
       "\n",
       "\n"
      ],
      "text/plain": [
       "[1] \"x\"     \"lx\"    \"dx\"    \"qx\"    \"px\"    \"e0x\"   \"S0(x)\" \"f0(x)\" \"m(x)\" "
      ]
     },
     "metadata": {},
     "output_type": "display_data"
    }
   ],
   "source": [
    "colnames(tabla_mortalidad)"
   ]
  },
  {
   "cell_type": "code",
   "execution_count": 22,
   "metadata": {
    "vscode": {
     "languageId": "r"
    }
   },
   "outputs": [
    {
     "data": {
      "text/html": [
       "0.999515"
      ],
      "text/latex": [
       "0.999515"
      ],
      "text/markdown": [
       "0.999515"
      ],
      "text/plain": [
       "[1] 0.999515"
      ]
     },
     "metadata": {},
     "output_type": "display_data"
    }
   ],
   "source": [
    "p_x(2, tabla_mortalidad)\n"
   ]
  },
  {
   "cell_type": "code",
   "execution_count": null,
   "metadata": {
    "vscode": {
     "languageId": "r"
    }
   },
   "outputs": [],
   "source": [
    "t_p_x(2, 3,)"
   ]
  }
 ],
 "metadata": {
  "kernelspec": {
   "display_name": "R",
   "language": "R",
   "name": "ir"
  },
  "language_info": {
   "codemirror_mode": "r",
   "file_extension": ".r",
   "mimetype": "text/x-r-source",
   "name": "R",
   "pygments_lexer": "r",
   "version": "4.2.3"
  }
 },
 "nbformat": 4,
 "nbformat_minor": 2
}
